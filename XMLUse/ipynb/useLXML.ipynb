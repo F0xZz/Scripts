{
 "cells": [
  {
   "cell_type": "code",
   "execution_count": 6,
   "id": "iraqi-memory",
   "metadata": {},
   "outputs": [],
   "source": [
    "from lxml import etree, objectify\n",
    "\n",
    "def xmlparse(path):\n",
    "    parser = etree.XMLParser(encoding=\"utf-8\", strip_cdata=False, remove_blank_text=True)\n",
    "    root = etree.parse(path, parser=parser)\n",
    "    return root\n",
    "\n",
    "\n",
    "def xmladdstring(path, key, content):\n",
    "    root = xmlparse(path)\n",
    "    node = etree.Element('string', {'name': key})\n",
    "    node.text = content\n",
    "    root.getroot().append(node)\n",
    "    root.write(path, pretty_print=True, encoding='utf-8')\n"
   ]
  },
  {
   "cell_type": "code",
   "execution_count": 43,
   "id": "spiritual-reset",
   "metadata": {
    "scrolled": true
   },
   "outputs": [],
   "source": [
    "#read xml\n",
    "root = xmlparse(\"/home/ubuntu/20210701-/newfiredata/barbecue_0000aug.xml\")\n",
    "\n",
    "\n",
    "# read \n",
    "# r1=len(root.findall(\"object\"))\n",
    "# r1=root.findall(\"object\")\n",
    "# for bbox in root.xpath('//object'):  get the node \n",
    "#     for corner in bbox.getchildren():  # 便利bndbox元素下的子元素\n",
    "#         for cornerChild in corner.getchildren():\n",
    "#             print(cornerChild.tag)"
   ]
  },
  {
   "cell_type": "code",
   "execution_count": 44,
   "id": "statewide-laundry",
   "metadata": {},
   "outputs": [
    {
     "name": "stdout",
     "output_type": "stream",
     "text": [
      "0\n",
      "0\n"
     ]
    }
   ],
   "source": [
    "node = etree.Element('object')\n",
    "i = 0\n",
    "for obj in root.iter(\"object\"):\n",
    "    print(i)\n",
    "    childnode2=etree.Element(\"pose\")\n",
    "    childnode2.text=\"Unspecified\"\n",
    "    childnode3=etree.Element(\"truncated\")\n",
    "    childnode3.text=\"0\"\n",
    "    childnode4=etree.Element(\"difficult\")\n",
    "    childnode4.text=\"0\"\n",
    "    obj.append(childnode2)\n",
    "    obj.append(childnode3)\n",
    "    obj.append(childnode4)\n",
    "root.write(\"xnew.xml\", pretty_print=True, encoding='utf-8')"
   ]
  },
  {
   "cell_type": "code",
   "execution_count": 32,
   "id": "streaming-diagram",
   "metadata": {},
   "outputs": [],
   "source": [
    "#create node\n",
    "node = etree.Element('object')\n",
    "childnode2=etree.Element(\"name\")\n",
    "childnode2.text=\"fire\"\n",
    "childnode3 = etree.Element(\"bndbox\")\n",
    "grandchildnode1 = etree.Element(\"xmin\")\n",
    "grandchildnode1.text = \"1\"\n",
    "grandchildnode2 = etree.Element(\"ymin\")\n",
    "grandchildnode2.text = \"1\"\n",
    "grandchildnode3 = etree.Element(\"xmax\")\n",
    "grandchildnode3.text = \"1\"\n",
    "grandchildnode4 = etree.Element(\"ymax\")\n",
    "grandchildnode4.text = \"1\""
   ]
  },
  {
   "cell_type": "code",
   "execution_count": 33,
   "id": "studied-galaxy",
   "metadata": {},
   "outputs": [],
   "source": [
    "# add node\n",
    "childnode3.append(grandchildnode1)\n",
    "childnode3.append(grandchildnode2)\n",
    "childnode3.append(grandchildnode3)\n",
    "childnode3.append(grandchildnode4)\n",
    "node.append(childnode2)\n",
    "node.append(childnode3)\n",
    "root.getroot().append(node)"
   ]
  },
  {
   "cell_type": "code",
   "execution_count": 34,
   "id": "legislative-boating",
   "metadata": {},
   "outputs": [],
   "source": [
    "root.write(\"x.xml\", pretty_print=True, encoding='utf-8')"
   ]
  },
  {
   "cell_type": "code",
   "execution_count": null,
   "id": "divided-leather",
   "metadata": {},
   "outputs": [],
   "source": []
  }
 ],
 "metadata": {
  "kernelspec": {
   "display_name": "Python 3",
   "language": "python",
   "name": "python3"
  },
  "language_info": {
   "codemirror_mode": {
    "name": "ipython",
    "version": 3
   },
   "file_extension": ".py",
   "mimetype": "text/x-python",
   "name": "python",
   "nbconvert_exporter": "python",
   "pygments_lexer": "ipython3",
   "version": "3.6.9"
  }
 },
 "nbformat": 4,
 "nbformat_minor": 5
}
