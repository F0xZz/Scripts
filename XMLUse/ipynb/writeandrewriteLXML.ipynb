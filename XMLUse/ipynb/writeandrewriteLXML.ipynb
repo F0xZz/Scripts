{
 "cells": [
  {
   "cell_type": "code",
   "execution_count": 1,
   "id": "filled-indian",
   "metadata": {},
   "outputs": [],
   "source": [
    "from lxml import etree, objectify"
   ]
  },
  {
   "cell_type": "code",
   "execution_count": 2,
   "id": "raising-profession",
   "metadata": {},
   "outputs": [],
   "source": [
    "E = objectify.ElementMaker(annotate=False)\n",
    "anno_tree = E.annotation(\n",
    "    E.folder('VOC2014_instance'),\n",
    "    E.filename(\"test.jpg\"),\n",
    "    E.source(\n",
    "        E.database('COCO'),\n",
    "        E.annotation('COCO'),\n",
    "        E.image('COCO'),\n",
    "        E.url(\"http://test.jpg\")\n",
    "    ),\n",
    "    E.size(\n",
    "        E.width(800),\n",
    "        E.height(600),\n",
    "        E.depth(3)\n",
    "    ),\n",
    "    E.segmented(0),\n",
    ")\n",
    "etree.ElementTree(anno_tree).write(\"write.xml\", pretty_print=True)\n"
   ]
  },
  {
   "cell_type": "code",
   "execution_count": 15,
   "id": "conservative-university",
   "metadata": {},
   "outputs": [
    {
     "data": {
      "text/plain": [
       "lxml.objectify.ElementMaker"
      ]
     },
     "execution_count": 15,
     "metadata": {},
     "output_type": "execute_result"
    }
   ],
   "source": [
    "type(anno_tree)\n",
    "type(E)"
   ]
  },
  {
   "cell_type": "code",
   "execution_count": 14,
   "id": "discrete-ticket",
   "metadata": {},
   "outputs": [
    {
     "name": "stdout",
     "output_type": "stream",
     "text": [
      "<class 'lxml.etree._ElementTree'>\n"
     ]
    }
   ],
   "source": [
    "print(type(etree.ElementTree(anno_tree)))\n",
    "A = etree.ElementTree(anno_tree)"
   ]
  },
  {
   "cell_type": "code",
   "execution_count": 13,
   "id": "lightweight-digest",
   "metadata": {},
   "outputs": [
    {
     "ename": "TypeError",
     "evalue": "Invalid child type: <class 'lxml.etree._ElementTree'>",
     "output_type": "error",
     "traceback": [
      "\u001b[0;31m---------------------------------------------------------------------------\u001b[0m",
      "\u001b[0;31mTypeError\u001b[0m                                 Traceback (most recent call last)",
      "\u001b[0;32m<ipython-input-13-9fcf51fb4e7e>\u001b[0m in \u001b[0;36m<module>\u001b[0;34m\u001b[0m\n\u001b[0;32m----> 1\u001b[0;31m \u001b[0mobjectify\u001b[0m\u001b[0;34m.\u001b[0m\u001b[0mObjectifiedElement\u001b[0m\u001b[0;34m(\u001b[0m\u001b[0mA\u001b[0m\u001b[0;34m)\u001b[0m\u001b[0;34m\u001b[0m\u001b[0;34m\u001b[0m\u001b[0m\n\u001b[0m",
      "\u001b[0;32msrc/lxml/classlookup.pxi\u001b[0m in \u001b[0;36mlxml.etree.ElementBase.__init__\u001b[0;34m()\u001b[0m\n",
      "\u001b[0;31mTypeError\u001b[0m: Invalid child type: <class 'lxml.etree._ElementTree'>"
     ]
    }
   ],
   "source": [
    "objectify.ObjectifiedElement(A)"
   ]
  },
  {
   "cell_type": "code",
   "execution_count": 4,
   "id": "comfortable-skating",
   "metadata": {},
   "outputs": [],
   "source": [
    "E2 = objectify.ElementMaker(annotate=False)\n",
    "anno_tree2 = E2.object(\n",
    "    E.name(\"person\"),\n",
    "    E.bndbox(\n",
    "        E.xmin(100),\n",
    "        E.ymin(200),\n",
    "        E.xmax(300),\n",
    "        E.ymax(400)\n",
    "    ),\n",
    "    E.difficult(0)\n",
    ")\n",
    "anno_tree.append(anno_tree2)"
   ]
  },
  {
   "cell_type": "code",
   "execution_count": 5,
   "id": "minute-assistant",
   "metadata": {},
   "outputs": [],
   "source": [
    "etree.ElementTree(anno_tree).write(\"write.xml\", pretty_print=True)"
   ]
  },
  {
   "cell_type": "code",
   "execution_count": null,
   "id": "spread-wallet",
   "metadata": {},
   "outputs": [],
   "source": []
  }
 ],
 "metadata": {
  "kernelspec": {
   "display_name": "Python 3",
   "language": "python",
   "name": "python3"
  },
  "language_info": {
   "codemirror_mode": {
    "name": "ipython",
    "version": 3
   },
   "file_extension": ".py",
   "mimetype": "text/x-python",
   "name": "python",
   "nbconvert_exporter": "python",
   "pygments_lexer": "ipython3",
   "version": "3.6.9"
  }
 },
 "nbformat": 4,
 "nbformat_minor": 5
}
