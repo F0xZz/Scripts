{
 "cells": [
  {
   "cell_type": "code",
   "execution_count": 1,
   "id": "phantom-rough",
   "metadata": {},
   "outputs": [],
   "source": [
    "from lxml import etree, objectify"
   ]
  },
  {
   "cell_type": "code",
   "execution_count": 2,
   "id": "plain-italy",
   "metadata": {},
   "outputs": [],
   "source": [
    "html=etree.parse('x.xml') "
   ]
  },
  {
   "cell_type": "code",
   "execution_count": null,
   "id": "exotic-rates",
   "metadata": {},
   "outputs": [],
   "source": [
    "root = etree.Element('root')"
   ]
  }
 ],
 "metadata": {
  "kernelspec": {
   "display_name": "Python 3",
   "language": "python",
   "name": "python3"
  },
  "language_info": {
   "codemirror_mode": {
    "name": "ipython",
    "version": 3
   },
   "file_extension": ".py",
   "mimetype": "text/x-python",
   "name": "python",
   "nbconvert_exporter": "python",
   "pygments_lexer": "ipython3",
   "version": "3.6.9"
  }
 },
 "nbformat": 4,
 "nbformat_minor": 5
}
