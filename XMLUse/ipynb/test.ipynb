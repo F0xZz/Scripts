{
 "cells": [
  {
   "cell_type": "code",
   "execution_count": 80,
   "id": "expired-favor",
   "metadata": {},
   "outputs": [],
   "source": [
    "from numpy.core.fromnumeric import resize\n",
    "import cv2\n",
    "import os \n",
    "import xml.etree.ElementTree as ET\n",
    "import numpy as np \n",
    "from lxml import etree\n",
    "import random\n",
    "import xml.dom.minidom as xdc\n",
    "from xml.dom.minidom import Document\n",
    "from xml.etree import ElementTree as ET\n",
    "from xml.dom.minidom import parse\n",
    "from xml.etree.ElementTree import ElementTree,Element"
   ]
  },
  {
   "cell_type": "code",
   "execution_count": 92,
   "id": "funny-pharmacology",
   "metadata": {},
   "outputs": [
    {
     "data": {
      "text/plain": [
       "xml.etree.ElementTree.ElementTree"
      ]
     },
     "execution_count": 92,
     "metadata": {},
     "output_type": "execute_result"
    }
   ],
   "source": [
    "in_path = \"./00001.xml\"\n",
    "#tree = ElementTree()\n",
    "\n",
    "# tree = ET.ElementTree(file='00001.xml')\n",
    "tree = ET.ElementTree(file=in_path)\n",
    "type(tree)"
   ]
  },
  {
   "cell_type": "code",
   "execution_count": 91,
   "id": "afraid-norman",
   "metadata": {},
   "outputs": [
    {
     "data": {
      "text/plain": [
       "xml.etree.ElementTree.Element"
      ]
     },
     "execution_count": 91,
     "metadata": {},
     "output_type": "execute_result"
    }
   ],
   "source": [
    "root = tree.getroot()\n",
    "type(root)"
   ]
  },
  {
   "cell_type": "code",
   "execution_count": 90,
   "id": "downtown-edgar",
   "metadata": {},
   "outputs": [],
   "source": [
    "objectT = tree.findall(\"object\")"
   ]
  },
  {
   "cell_type": "code",
   "execution_count": 84,
   "id": "dressed-paintball",
   "metadata": {},
   "outputs": [],
   "source": [
    "element = Element('object')"
   ]
  },
  {
   "cell_type": "code",
   "execution_count": 85,
   "id": "capital-cosmetic",
   "metadata": {},
   "outputs": [],
   "source": [
    "bndBox = Element(\"bndbox\")\n",
    "name = Element(\"name\")\n",
    "name.text=\"fire\""
   ]
  },
  {
   "cell_type": "code",
   "execution_count": 86,
   "id": "binary-alabama",
   "metadata": {},
   "outputs": [],
   "source": [
    "xmin = Element(\"xmin\")\n",
    "ymin = Element(\"ymin\")\n",
    "xmax = Element(\"xmax\")\n",
    "ymax = Element(\"ymax\")\n",
    "xmin.text = \"1\"\n",
    "ymin.text = \"1\"\n",
    "xmax.text = \"1\"\n",
    "ymax.text = \"1\"\n",
    "bndBox.append(xmin)"
   ]
  },
  {
   "cell_type": "code",
   "execution_count": 87,
   "id": "quarterly-console",
   "metadata": {},
   "outputs": [],
   "source": [
    "bndBox.append(ymin)\n",
    "bndBox.append(xmax)\n",
    "bndBox.append(ymax)"
   ]
  },
  {
   "cell_type": "code",
   "execution_count": 88,
   "id": "corresponding-journalism",
   "metadata": {},
   "outputs": [],
   "source": [
    "element.append(name)\n",
    "element.append(bndBox)"
   ]
  },
  {
   "cell_type": "code",
   "execution_count": 89,
   "id": "timely-million",
   "metadata": {},
   "outputs": [
    {
     "ename": "AttributeError",
     "evalue": "'ElementTree' object has no attribute 'append'",
     "output_type": "error",
     "traceback": [
      "\u001b[0;31m---------------------------------------------------------------------------\u001b[0m",
      "\u001b[0;31mAttributeError\u001b[0m                            Traceback (most recent call last)",
      "\u001b[0;32m<ipython-input-89-ab54f9acd3d7>\u001b[0m in \u001b[0;36m<module>\u001b[0;34m\u001b[0m\n\u001b[1;32m      1\u001b[0m \u001b[0mroot\u001b[0m\u001b[0;34m.\u001b[0m\u001b[0mappend\u001b[0m\u001b[0;34m(\u001b[0m\u001b[0melement\u001b[0m\u001b[0;34m)\u001b[0m\u001b[0;34m\u001b[0m\u001b[0;34m\u001b[0m\u001b[0m\n\u001b[0;32m----> 2\u001b[0;31m \u001b[0mtree\u001b[0m\u001b[0;34m.\u001b[0m\u001b[0mappend\u001b[0m\u001b[0;34m(\u001b[0m\u001b[0mroot\u001b[0m\u001b[0;34m)\u001b[0m\u001b[0;34m\u001b[0m\u001b[0;34m\u001b[0m\u001b[0m\n\u001b[0m\u001b[1;32m      3\u001b[0m \u001b[0;31m# # root = ElementTree.fromstring(root)\u001b[0m\u001b[0;34m\u001b[0m\u001b[0;34m\u001b[0m\u001b[0;34m\u001b[0m\u001b[0m\n\u001b[1;32m      4\u001b[0m \u001b[0;31m# treeNew = etree.ElementTree(root)\u001b[0m\u001b[0;34m\u001b[0m\u001b[0;34m\u001b[0m\u001b[0;34m\u001b[0m\u001b[0m\n",
      "\u001b[0;31mAttributeError\u001b[0m: 'ElementTree' object has no attribute 'append'"
     ]
    }
   ],
   "source": [
    "root.append(element)\n",
    "# tree.append(root)\n",
    "# # root = ElementTree.fromstring(root)\n",
    "# treeNew = etree.ElementTree(root)\n"
   ]
  },
  {
   "cell_type": "code",
   "execution_count": 50,
   "id": "mineral-carol",
   "metadata": {},
   "outputs": [
    {
     "name": "stdout",
     "output_type": "stream",
     "text": [
      "[<Element 'object' at 0x7f3191b3f3b8>, <Element 'object' at 0x7f3191b3f5e8>, <Element 'object' at 0x7f3191b3f908>]\n"
     ]
    }
   ],
   "source": [
    "fp=open('./test.xml','w',encoding='utf-8')\n",
    "tree.writexml(fp,indent='',addindent='\\t',newl='\\n',encoding='utf-8')"
   ]
  },
  {
   "cell_type": "code",
   "execution_count": 52,
   "id": "disabled-bleeding",
   "metadata": {},
   "outputs": [],
   "source": []
  },
  {
   "cell_type": "code",
   "execution_count": null,
   "id": "distributed-planning",
   "metadata": {},
   "outputs": [],
   "source": []
  }
 ],
 "metadata": {
  "kernelspec": {
   "display_name": "Python 3",
   "language": "python",
   "name": "python3"
  },
  "language_info": {
   "codemirror_mode": {
    "name": "ipython",
    "version": 3
   },
   "file_extension": ".py",
   "mimetype": "text/x-python",
   "name": "python",
   "nbconvert_exporter": "python",
   "pygments_lexer": "ipython3",
   "version": "3.6.9"
  }
 },
 "nbformat": 4,
 "nbformat_minor": 5
}
